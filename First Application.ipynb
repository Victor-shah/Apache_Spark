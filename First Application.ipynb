{
 "cells": [
  {
   "cell_type": "code",
   "execution_count": 1,
   "id": "f4be1dd9",
   "metadata": {},
   "outputs": [],
   "source": [
    "#import the packages\n",
    "from pyspark.sql import SparkSession\n",
    "from pyspark.sql.types import StructType, StructField, IntegerType, StringType\n",
    "import pyspark.sql.functions as func"
   ]
  },
  {
   "cell_type": "code",
   "execution_count": 2,
   "id": "2be108ae",
   "metadata": {},
   "outputs": [],
   "source": [
    "#Creating the SparkSession\n",
    "spark = SparkSession.builder.appName(\"FirstApp\").getOrCreate()"
   ]
  },
  {
   "cell_type": "code",
   "execution_count": 3,
   "id": "445d0173",
   "metadata": {},
   "outputs": [],
   "source": [
    "#Defining schema for your dataframe\n",
    "myschema = StructType([\\\n",
    "                      StructField(\"userID\", IntegerType(), True),\n",
    "                      StructField(\"name\", StringType(), True),\n",
    "                      StructField(\"age\", IntegerType(), True),\n",
    "                      StructField(\"friends\", IntegerType(), True)\n",
    "                      ])"
   ]
  },
  {
   "cell_type": "code",
   "execution_count": 4,
   "id": "d9bf1e1e",
   "metadata": {},
   "outputs": [],
   "source": [
    "#Creating DataFrame on a CSV file\n",
    "people = spark.read.format(\"csv\")\\\n",
    "        .schema(myschema)\\\n",
    "        .option(\"path\",\"fakefriends.csv\")\\\n",
    "        .load()"
   ]
  },
  {
   "cell_type": "code",
   "execution_count": 5,
   "id": "1319ee27",
   "metadata": {},
   "outputs": [],
   "source": [
    "#Performing all the transformations\n",
    "output = people.select(people.userID,people.name\\\n",
    "                      ,people.age,people.friends)\\\n",
    "        .where(people.age<30).withColumn('insert_ts',func.current_timestamp())\\\n",
    "        .orderBy(people.userID)"
   ]
  },
  {
   "cell_type": "code",
   "execution_count": 6,
   "id": "963d05ad",
   "metadata": {},
   "outputs": [
    {
     "data": {
      "text/plain": [
       "112"
      ]
     },
     "execution_count": 6,
     "metadata": {},
     "output_type": "execute_result"
    }
   ],
   "source": [
    "#Taking the count of the output transformation\n",
    "output.count()"
   ]
  },
  {
   "cell_type": "code",
   "execution_count": 9,
   "id": "eec574c2",
   "metadata": {},
   "outputs": [],
   "source": [
    "#Creating a Temp View\n",
    "output.createOrReplaceTempView(\"people\")"
   ]
  },
  {
   "cell_type": "code",
   "execution_count": 10,
   "id": "541c7be2",
   "metadata": {},
   "outputs": [
    {
     "name": "stdout",
     "output_type": "stream",
     "text": [
      "+--------+---+-------+--------------------+\n",
      "|    name|age|friends|           insert_ts|\n",
      "+--------+---+-------+--------------------+\n",
      "|Jean-Luc| 26|      2|2023-07-29 12:05:...|\n",
      "|    Hugh| 27|    181|2023-07-29 12:05:...|\n",
      "|  Weyoun| 22|    323|2023-07-29 12:05:...|\n",
      "|   Miles| 19|    268|2023-07-29 12:05:...|\n",
      "|  Julian| 25|      1|2023-07-29 12:05:...|\n",
      "|     Ben| 21|    445|2023-07-29 12:05:...|\n",
      "|  Julian| 22|    100|2023-07-29 12:05:...|\n",
      "|     Nog| 26|    281|2023-07-29 12:05:...|\n",
      "| Beverly| 27|    305|2023-07-29 12:05:...|\n",
      "|    Morn| 25|     96|2023-07-29 12:05:...|\n",
      "|   Brunt| 24|     49|2023-07-29 12:05:...|\n",
      "|     Nog| 20|      1|2023-07-29 12:05:...|\n",
      "| Beverly| 19|    269|2023-07-29 12:05:...|\n",
      "|   Brunt| 19|      5|2023-07-29 12:05:...|\n",
      "|  Geordi| 20|    100|2023-07-29 12:05:...|\n",
      "|  Geordi| 21|    477|2023-07-29 12:05:...|\n",
      "|  Kasidy| 22|    179|2023-07-29 12:05:...|\n",
      "|   Brunt| 20|    384|2023-07-29 12:05:...|\n",
      "|     Ben| 28|    311|2023-07-29 12:05:...|\n",
      "|    Worf| 24|    492|2023-07-29 12:05:...|\n",
      "+--------+---+-------+--------------------+\n",
      "only showing top 20 rows\n",
      "\n"
     ]
    }
   ],
   "source": [
    "#Running a simple spark query\n",
    "spark.sql(\"select name, age, friends, insert_ts from people\").show()"
   ]
  },
  {
   "cell_type": "code",
   "execution_count": null,
   "id": "1ecb6982",
   "metadata": {},
   "outputs": [],
   "source": []
  }
 ],
 "metadata": {
  "kernelspec": {
   "display_name": "Python 3 (ipykernel)",
   "language": "python",
   "name": "python3"
  },
  "language_info": {
   "codemirror_mode": {
    "name": "ipython",
    "version": 3
   },
   "file_extension": ".py",
   "mimetype": "text/x-python",
   "name": "python",
   "nbconvert_exporter": "python",
   "pygments_lexer": "ipython3",
   "version": "3.11.3"
  }
 },
 "nbformat": 4,
 "nbformat_minor": 5
}
